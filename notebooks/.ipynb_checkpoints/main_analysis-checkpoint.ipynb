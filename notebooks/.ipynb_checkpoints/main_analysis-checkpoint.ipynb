{
 "cells": [
  {
   "cell_type": "markdown",
   "metadata": {},
   "source": [
    "# Analisi dell'Andamento degli Indici Azionari: S&P 500 & EURO STOXX 50\n\n",
    "Questo notebook utilizza le funzioni definite nel modulo `src/analysis_tools.py` per analizzare i dati storici degli indici S&P 500 e EURO STOXX 50."
   ]
  },
  {
   "cell_type": "markdown",
   "metadata": {},
   "source": [
    "## 1. Import delle librerie e del modulo di analisi"
   ]
  },
  {
   "cell_type": "code",
   "metadata": {},
   "outputs": [],
   "source": [
    "import pandas as pd\n",
    "import sys\n",
    "sys.path.append('../') # Permette di importare dal parent directory (la root del progetto)\n",
    "from src import analysis_tools as tools\n\n",
    "%matplotlib inline\n",
    "pd.set_option('display.float_format', '{:.4f}'.format)"
   ]
  },
  {
   "cell_type": "markdown",
   "metadata": {},
   "source": [
    "## 2. Caricamento e Preprocessing dei Dati\n\n",
    "I dati vengono caricati dai file CSV locali e preprocessati per calcolare i rendimenti giornalieri e altre feature."
   ]
  },
  {
   "cell_type": "code",
   "metadata": {},
   "outputs": [],
   "source": [
    "sp500_df = tools.load_and_preprocess_data('../data/sp500.csv')\n",
    "euro50_df = tools.load_and_preprocess_data('../data/euro50.csv')\n\n",
    "print(\"Dati S&P 500 caricati:\")\n",
    "display(sp500_df.head())"
   ]
  },
  {
   "cell_type": "markdown",
   "metadata": {},
   "source": [
    "## 3. Analisi e Visualizzazione\n\n",
    "Eseguiamo le analisi definite nel nostro modulo e visualizziamo i risultati."
   ]
  },
  {
   "cell_type": "markdown",
   "metadata": {},
   "source": [
    "### Andamento Storico Prezzi e Volumi"
   ]
  },
  {
   "cell_type": "code",
   "metadata": {},
   "outputs": [],
   "source": [
    "tools.plot_price_and_volume(sp500_df, 'S&P 500')\n",
    "tools.plot_price_and_volume(euro50_df, 'EURO STOXX 50')"
   ]
  },
  {
   "cell_type": "markdown",
   "metadata": {},
   "source": [
    "### Distribuzione dei Rendimenti Giornalieri"
   ]
  },
  {
   "cell_type": "code",
   "metadata": {},
   "outputs": [],
   "source": [
    "tools.plot_returns_histogram(sp500_df['daily_return'], 'S&P 500')\n",
    "tools.plot_returns_histogram(euro50_df['daily_return'], 'EURO STOXX 50')"
   ]
  },
  {
   "cell_type": "markdown",
   "metadata": {},
   "source": [
    "### Analisi dei Rendimenti Periodici"
   ]
  },
  {
   "cell_type": "code",
   "metadata": {},
   "outputs": [],
   "source": [
    "annual_returns_sp500 = tools.get_period_return(sp500_df['Close'], 'Y')\n",
    "monthly_returns_sp500 = tools.get_period_return(sp500_df['Close'], 'M')\n\n",
    "print(\"--- Rendimento Annuale S&P 500 (% a fine anno) ---\")\n",
    "display(annual_returns_sp500.to_frame(name='Annual Return %'))"
   ]
  },
  {
   "cell_type": "markdown",
   "metadata": {},
   "source": [
    "### Performance per Giorno della Settimana"
   ]
  },
  {
   "cell_type": "code",
   "metadata": {},
   "outputs": [],
   "source": [
    "weekday_perf_sp500 = tools.analyze_weekday_performance(sp500_df['daily_return'])\n",
    "print(\"--- Rendimento Medio per Giorno della Settimana S&P 500 (%) ---\")\n",
    "display(weekday_perf_sp500.to_frame(name='Avg Daily Return %'))"
   ]
  },
  {
   "cell_type": "markdown",
   "metadata": {},
   "source": [
    "### Giorni di Maggiore Volatilità"
   ]
  },
  {
   "cell_type": "code",
   "metadata": {},
   "outputs": [],
   "source": [
    "top_days_sp500, worst_days_sp500 = tools.find_extreme_days(sp500_df['daily_return'], n=5)\n\n",
    "print(\"--- 5 Migliori Giorni S&P 500 (% rendimento) ---\")\n",
    "display(top_days_sp500.to_frame(name='Return %'))\n\n",
    "print(\"--- 5 Peggiori Giorni S&P 500 (% rendimento) ---\")\n",
    "display(worst_days_sp500.to_frame(name='Return %'))"
   ]
  }
 ],
 "metadata": {
  "kernelspec": {
   "display_name": "Python 3",
   "language": "python",
   "name": "python3"
  },
  "language_info": {
   "name": "python",
   "version": "3.12.4"
  }
 },
 "nbformat": 4,
 "nbformat_minor": 5
}
